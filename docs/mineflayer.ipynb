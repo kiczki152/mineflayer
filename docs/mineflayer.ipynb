{
  "cells": [
    {
      "cell_type": "markdown",
      "metadata": {
        "colab_type": "text",
        "id": "view-in-github"
      },
      "source": [
        "<a href=\"https://colab.research.google.com/github/kiczki152/mineflayer/blob/master/docs/mineflayer.ipynb\" target=\"_parent\"><img src=\"https://colab.research.google.com/assets/colab-badge.svg\" alt=\"Open In Colab\"/></a>"
      ]
    },
    {
      "cell_type": "markdown",
      "metadata": {
        "id": "2BAYqsdOgKNJ"
      },
      "source": [
        "# Using mineflayer in Python\n",
        "\n",
        "This is a tutorial on how to use mineflayer in Python. This example will connect you to the PrismarineJS test server. You can join it with prismarine-viewer or your Minecraft client at server IP **pjs.deptofcraft.com:25565**.\n",
        "\n",
        "If you're new to Jupyter Notebooks, you can press the \"Play\" button at the left of each code block to run it. Make sure that you run the blocks in a correct order."
      ]
    },
    {
      "cell_type": "markdown",
      "metadata": {
        "id": "qM2rVyxGf2Yv"
      },
      "source": [
        "## Setup"
      ]
    },
    {
      "cell_type": "markdown",
      "metadata": {
        "id": "K2ol06QOhL6s"
      },
      "source": [
        "First, make sure you have Python version 3.10 and Node.js version 18 or newer installed. You can get Node.js 18 it from https://nodejs.org/en/download or use [Node.js version managers](https://docs.npmjs.com/downloading-and-installing-node-js-and-npm#using-a-node-version-manager-to-install-nodejs-and-npm) like [`nvm`](https://github.com/creationix/nvm) or [`n`](https://github.com/tj/n) to install via the command line. Here we'll use `n` to install Node.js v18, then check our Node and Python versions:"
      ]
    },
    {
      "cell_type": "code",
      "execution_count": 1,
      "metadata": {
        "colab": {
          "base_uri": "https://localhost:8080/"
        },
        "id": "8zCSpx8Bif5m",
        "outputId": "e0a6e23d-872d-40d8-b460-49da7b8f1bc0"
      },
      "outputs": [
        {
          "name": "stdout",
          "output_type": "stream",
          "text": [
            "v22.12.0\n",
            "Python 3.13.1\n"
          ]
        }
      ],
      "source": [
        "# Use `n` to install nodejs 18, if it's not already installed:\n",
        "#!curl -fsSL https://raw.githubusercontent.com/tj/n/master/bin/n | bash -s lts > /dev/null\n",
        "# Now write the Node.js and Python version to the console\n",
        "!node --version\n",
        "!python --version"
      ]
    },
    {
      "cell_type": "markdown",
      "metadata": {
        "id": "C7omnDs3lNaV"
      },
      "source": [
        "Now, we can use pip to install the `javascript` Python package to access Node.js libraries from Python."
      ]
    },
    {
      "cell_type": "code",
      "execution_count": null,
      "metadata": {
        "id": "DKnwzSZQ8Taf"
      },
      "outputs": [],
      "source": [
        "%pip install javascript"
      ]
    },
    {
      "cell_type": "markdown",
      "metadata": {
        "id": "_RAKlcScgKtV"
      },
      "source": [
        "## Usage"
      ]
    },
    {
      "cell_type": "markdown",
      "metadata": {
        "id": "bxAdFbBfmdCd"
      },
      "source": [
        "If all is well, we can import the `javascript` library. We can then import the `require` function which works similarly to the `require` function in Node.js, but does the dependency management for us.\n",
        "\n",
        "You may notice the extra imports : On, Once, off and AsyncTask. These will be discussed later on.\n",
        "\n",
        "\n"
      ]
    },
    {
      "cell_type": "code",
      "execution_count": 12,
      "metadata": {
        "id": "54Lnq3aH4Tee"
      },
      "outputs": [],
      "source": [
        "from javascript import require, On, Once, AsyncTask, once, off"
      ]
    },
    {
      "cell_type": "markdown",
      "metadata": {
        "id": "cy7-0cWxdhU8"
      },
      "source": [
        "We can now import Mineflayer"
      ]
    },
    {
      "cell_type": "code",
      "execution_count": 13,
      "metadata": {
        "id": "8jgkTVniDPUZ"
      },
      "outputs": [],
      "source": [
        "mineflayer = require('mineflayer')"
      ]
    },
    {
      "cell_type": "markdown",
      "metadata": {
        "id": "WBAj5rSkgjKX"
      },
      "source": [
        "Once we've done that, we can create a new `bot` instance, through the `createBot` function. You can see the docs for this function [here](https://github.com/PrismarineJS/mineflayer/blob/master/docs/api.md#bot). In the line below we specify a hostname and a port for the server, but do not pass any `auth` or `password` options, so it will connect to the server in offline mode.\n",
        "\n",
        "Below that, we also a call to the `once` function, which pauses the thread until an event has been triggered, then returns the output. Here, we print out  \"I spawned\" after the `login` event has been triggered on `bot`."
      ]
    },
    {
      "cell_type": "code",
      "execution_count": 14,
      "metadata": {
        "id": "1gfZSAUCDVMg"
      },
      "outputs": [],
      "source": [
        "random_number = id([]) % 1000 # Give us a random number upto 1000\n",
        "#BOT_USERNAME = f'colab_{random_number}'\n",
        "BOT_USERNAME = 'Grzes_AI'\n",
        "PORT = 3074\n",
        "PORT_X = 25565\n",
        "PORT_BEDROCK = 19132\n",
        "PORT_JAVA = 25565\n",
        "HOST = '192.168.0.200'\n",
        "LOCALHOST = '192.168.0.197'\n",
        "#bot = mineflayer.createBot({ 'host': 'pjs.deptofcraft.com', 'port': 25565, 'username': BOT_USERNAME, 'hideErrors': False })\n",
        "#bot = mineflayer.createBot({ 'host': HOST, 'port': PORT_X, 'username': BOT_USERNAME, 'hideErrors': False, 'auth': 'microsoft' })\n",
        "#bot = mineflayer.createBot({ 'host': LOCALHOST, 'port': PORT_BEDROCK, 'username': 'xxx@gmail.com', 'hideErrors': False, 'auth': 'microsoft' })\n",
        "bot = mineflayer.createBot({ 'host': LOCALHOST, 'port': PORT_JAVA, 'username': 'xxx@gmail.com', 'hideErrors': False , 'auth': 'microsoft' })\n",
        "\n",
        "# The spawn event\n",
        "once(bot, 'login')\n",
        "bot.chat('I spawned')"
      ]
    },
    {
      "cell_type": "markdown",
      "metadata": {
        "id": "yvYZYbi0k8Za"
      },
      "source": [
        "If your bot spawned, we can now take a look at the bot's position"
      ]
    },
    {
      "cell_type": "code",
      "execution_count": 15,
      "metadata": {
        "id": "swMd1VvXYuKn"
      },
      "outputs": [
        {
          "data": {
            "text/plain": [
              "Vec3 { x: -81.5, y: 66, z: -19.5 }"
            ]
          },
          "execution_count": 15,
          "metadata": {},
          "output_type": "execute_result"
        }
      ],
      "source": [
        "bot.entity.position"
      ]
    },
    {
      "cell_type": "markdown",
      "metadata": {
        "id": "EdSjlgmilZ3O"
      },
      "source": [
        "### Listening to events"
      ]
    },
    {
      "cell_type": "markdown",
      "metadata": {
        "id": "23FTp0XrioMg"
      },
      "source": [
        "You can register an event handler with the `@On` or `@Once` decorator. This decorator takes two arguments, first it's the **Event Emitter** (the object that is sending events) and the second is the **event name**, what event you want to listen to. *Do not use the .on or .once methods on bot, use the decorators instead.*\n",
        "\n",
        "A decorator always has a function under it which is being decorated, which can have any name. The first parameter to any event emitter callback is the `this` argument.\n",
        "\n",
        "In the code below, we create an event emitter on `bot` that listens to `playerJoin` events, then print that out."
      ]
    },
    {
      "cell_type": "code",
      "execution_count": 16,
      "metadata": {
        "id": "s8QGmC4nHjnH"
      },
      "outputs": [],
      "source": [
        "@On(bot, 'playerJoin')\n",
        "def end(this, player):\n",
        "  bot.chat('Someone joined!')"
      ]
    },
    {
      "cell_type": "markdown",
      "metadata": {
        "id": "Onkn-TDsne9P"
      },
      "source": [
        "In Python, you cannot leave any arguments for an event handler callback blank like in JavaScript. Instead, you can use the asterisk (`*`) operator in Python to capture all remaining arguments to the right, much like the `...` rest/spread operator in JavaScript. The parameter with the asterisk will be a tuple containing the captured arguments.\n",
        "\n",
        "You can stop listening for events through an event handler by using the imported `off` function. It takes three parameters: the emitter, event name, and a reference to the Python function.\n"
      ]
    },
    {
      "cell_type": "code",
      "execution_count": 17,
      "metadata": {
        "id": "S4y9qAe6oh8H"
      },
      "outputs": [],
      "source": [
        "@On(bot, 'chat')\n",
        "def onChat(this, user, message, *rest):\n",
        "  print(f'{user} said \"{message}\"')\n",
        "\n",
        "  # If the message contains stop, remove the event listener and stop logging.\n",
        "  if 'stop' in message:\n",
        "    off(bot, 'chat', onChat)"
      ]
    },
    {
      "cell_type": "markdown",
      "metadata": {
        "id": "OybQNxGAq4P2"
      },
      "source": [
        "You need to `off` all the event listeners you listen to with `@On`, else the Python process won't exit until all of the active event emitters have been off'ed. If you only need to listen once, you can use the `@Once` decroator like in the example above."
      ]
    },
    {
      "cell_type": "markdown",
      "metadata": {
        "id": "iOzZeWfHozeX"
      },
      "source": [
        "## Asynchronous tasks\n",
        "\n",
        "By default, all the operations you do run on the main thread. This means you can only do one thing at a time. To multitask, you can use the `@AsyncTask` decroator to run a function in a new thread, while not obstructing the main thread."
      ]
    },
    {
      "cell_type": "markdown",
      "metadata": {
        "id": "xJUk8b21pOzg"
      },
      "source": [
        "### Block breaking\n",
        "\n",
        "Take a look at the example below. Here we listen for a \"break\" trigger in a chat message, then we start digging the block underneath, while simultaneously sending a message that the bot has \"started digging\"."
      ]
    },
    {
      "cell_type": "code",
      "execution_count": 8,
      "metadata": {
        "id": "yhoAlhAhpSTL"
      },
      "outputs": [],
      "source": [
        "@On(bot, 'chat')\n",
        "def breakListener(this, sender, message, *args):\n",
        "  if sender and (sender != BOT_USERNAME):\n",
        "    if 'break' in message:\n",
        "      pos = bot.entity.position.offset(0, -1, 0)\n",
        "      blockUnder = bot.blockAt(pos)\n",
        "      if bot.canDigBlock(blockUnder):\n",
        "        bot.chat(f\"I'm breaking the '{blockUnder.name}' block underneath\")\n",
        "        # The start=True parameter means to immediately invoke the function underneath\n",
        "        # If left blank, you can start it with the `start()` function later on.\n",
        "        try:\n",
        "          @AsyncTask(start=True)\n",
        "          def break_block(task):\n",
        "            bot.dig(blockUnder)\n",
        "          bot.chat('I started digging!')\n",
        "        except Exception as e:\n",
        "          bot.chat(f\"I had an error {e}\")\n",
        "      else:\n",
        "        bot.chat(f\"I can't break the '{blockUnder.name}' block underneath\")\n",
        "    if 'stop' in message:\n",
        "      off(bot, 'chat', breakListener)"
      ]
    },
    {
      "cell_type": "markdown",
      "metadata": {
        "id": "JMgoMA-MriAt"
      },
      "source": [
        "## Using mineflayer plugins\n",
        "\n",
        "Pick the plugin you want from the list [here](https://github.com/PrismarineJS/mineflayer#third-party-plugins), then `require()` it and register it to the bot. Some plugins have different ways to register to the bot, look at the plugin's README for usage steps."
      ]
    },
    {
      "cell_type": "markdown",
      "metadata": {
        "id": "OVAJCyxcsfig"
      },
      "source": [
        "### mineflayer-pathfinder\n",
        "\n",
        "`mineflayer-pathfinder` is a essential plugin that helps your bot move between places through A* pathfinding. Let's import it:"
      ]
    },
    {
      "cell_type": "code",
      "execution_count": 9,
      "metadata": {
        "id": "mH6eXm8TtTKh"
      },
      "outputs": [],
      "source": [
        "pathfinder = require('mineflayer-pathfinder')\n",
        "bot.loadPlugin(pathfinder.pathfinder)\n",
        "# Create a new minecraft-data instance with the bot's version\n",
        "mcData = require('minecraft-data')(bot.version)\n",
        "# Create a new movements class\n",
        "movements = pathfinder.Movements(bot, mcData)\n",
        "# How far to be from the goal\n",
        "RANGE_GOAL = 1"
      ]
    },
    {
      "cell_type": "markdown",
      "metadata": {
        "id": "Ju8MPkSauTBb"
      },
      "source": [
        "Now let's have create a goal for the bot to move to where another player wants, based on a chat message."
      ]
    },
    {
      "cell_type": "code",
      "execution_count": 10,
      "metadata": {
        "id": "8jIp8bxnudDK"
      },
      "outputs": [],
      "source": [
        "bot.removeAllListeners('chat')\n",
        "@On(bot, 'chat')\n",
        "def handleMsg(this, sender, message, *args):\n",
        "  if sender and (sender != BOT_USERNAME):\n",
        "    bot.chat('Hi, you said ' + message)\n",
        "    if 'come' in message:\n",
        "      player = bot.players[sender]\n",
        "      target = player.entity\n",
        "      if not target:\n",
        "        bot.chat(\"I don't see you !\")\n",
        "        return\n",
        "      pos = target.position\n",
        "      bot.pathfinder.setMovements(movements)\n",
        "      bot.pathfinder.setGoal(pathfinder.goals.GoalNear(pos.x, pos.y, pos.z, RANGE_GOAL))\n",
        "    if 'stop' in message:\n",
        "      off(bot, 'chat', handleMsg)"
      ]
    },
    {
      "cell_type": "markdown",
      "metadata": {
        "id": "K36XDP09k1aH"
      },
      "source": [
        "## Analyzing the world"
      ]
    },
    {
      "cell_type": "markdown",
      "metadata": {
        "id": "xK1Ww1ACmLZl"
      },
      "source": [
        "You can also interact with mineflayer through any other Python package."
      ]
    },
    {
      "cell_type": "markdown",
      "metadata": {
        "id": "5QatUqxeW6b_"
      },
      "source": [
        "Let's analyze some block frequencies..."
      ]
    },
    {
      "cell_type": "code",
      "execution_count": null,
      "metadata": {},
      "outputs": [],
      "source": [
        "%pip install matplotlib"
      ]
    },
    {
      "cell_type": "code",
      "execution_count": 11,
      "metadata": {
        "colab": {
          "base_uri": "https://localhost:8080/",
          "height": 417
        },
        "id": "k2XyRgzi8otw",
        "outputId": "a4de38b7-ec53-4e38-df0c-8b7f1067965e"
      },
      "outputs": [
        {
          "name": "stdout",
          "output_type": "stream",
          "text": [
            "{'deepslate': 1398, 'granite': 1297, 'stone': 17026, 'deepslate_copper_ore': 5, 'diorite': 1715, 'deepslate_lapis_ore': 2, 'lapis_ore': 33, 'dirt': 861, 'gravel': 442, 'deepslate_gold_ore': 2, 'gold_ore': 16, 'iron_ore': 88, 'andesite': 1445, 'smooth_basalt': 182, 'calcite': 198, 'amethyst_block': 168, 'budding_amethyst': 24, 'air': 1147, 'copper_ore': 120, 'amethyst_cluster': 5, 'small_amethyst_bud': 2, 'large_amethyst_bud': 2, 'coal_ore': 111, 'medium_amethyst_bud': 2, 'water': 17, 'deepslate_iron_ore': 9, 'redstone_ore': 1, 'deepslate_redstone_ore': 3, 'lava': 2, 'glow_lichen': 2}\n"
          ]
        },
        {
          "data": {
            "image/png": "[encoded data removed]",
            "text/plain": [
              "<Figure size 640x480 with 1 Axes>"
            ]
          },
          "metadata": {},
          "output_type": "display_data"
        }
      ],
      "source": [
        "import matplotlib.pyplot as plt\n",
        "figure = plt.figure()\n",
        "axes = figure.add_axes([0,0,1,1])\n",
        "Vec3 = require('vec3').Vec3\n",
        "\n",
        "columns = bot.world.getColumns()\n",
        "block_freqs = {}\n",
        "for c in range(0, 3): # iterate through some of the loaded chunk columns\n",
        "  cc = columns[c].column\n",
        "  for y in range(1, 40):\n",
        "    for x in range(1, 16):\n",
        "      for z in range(1, 16):\n",
        "        block = cc.getBlock(Vec3(x, y, z))\n",
        "        if block.name in block_freqs:\n",
        "          block_freqs[block.name] += 1\n",
        "        else:\n",
        "          block_freqs[block.name] = 1\n",
        "\n",
        "print(block_freqs)\n",
        "axes.bar(block_freqs.keys(), block_freqs.values())\n",
        "plt.xticks(rotation=45)\n",
        "plt.show()"
      ]
    },
    {
      "cell_type": "markdown",
      "metadata": {
        "id": "q2IkKpXZzRiP"
      },
      "source": [
        "## Exiting the bot\n",
        "\n",
        "Once you're done, you can call `bot.quit()` or `bot.end()` to disconnect and stop the bot."
      ]
    },
    {
      "cell_type": "code",
      "execution_count": null,
      "metadata": {
        "id": "1-NxvPk1YuGw"
      },
      "outputs": [],
      "source": [
        "bot.quit()"
      ]
    },
    {
      "cell_type": "markdown",
      "metadata": {
        "id": "SpwlmlCBc90Q"
      },
      "source": [
        "## Read more\n",
        "\n",
        "* **API** - https://github.com/PrismarineJS/mineflayer/blob/master/docs/api.md\n",
        "* **Type Definitions** - https://github.com/PrismarineJS/mineflayer/blob/master/index.d.ts\n",
        "* FAQ - https://github.com/PrismarineJS/mineflayer/blob/master/docs/FAQ.md\n",
        "* JS tutorial - https://github.com/PrismarineJS/mineflayer/blob/master/docs/tutorial.md\n"
      ]
    }
  ],
  "metadata": {
    "colab": {
      "include_colab_link": true,
      "name": "mineflayer.ipynb",
      "provenance": []
    },
    "kernelspec": {
      "display_name": ".venv",
      "language": "python",
      "name": "python3"
    },
    "language_info": {
      "codemirror_mode": {
        "name": "ipython",
        "version": 3
      },
      "file_extension": ".py",
      "mimetype": "text/x-python",
      "name": "python",
      "nbconvert_exporter": "python",
      "pygments_lexer": "ipython3",
      "version": "3.13.1"
    }
  },
  "nbformat": 4,
  "nbformat_minor": 0
}
